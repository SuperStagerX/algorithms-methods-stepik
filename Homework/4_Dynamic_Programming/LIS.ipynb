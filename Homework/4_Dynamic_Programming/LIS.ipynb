{
 "cells": [
  {
   "cell_type": "markdown",
   "metadata": {},
   "source": [
    "# Наибольшая возрастающая подпоследовательность\n",
    "\n",
    "__Вход:__ последовательность $A[1 . . . n] = [a_1, a_2, . . . , a_n]$.\n",
    "\n",
    "__Выход:__ наибольшая возрастающая подпоследовательность (НВП), то есть $a_{i1} , a_{i2} , . . . , a_{ik}$ такие что $i_1 < i_2 < . . . < i_k$ , $a_{i1} < a_{i2} < · · · < a_{ik}$ и $k$ максимально.\n",
    "\n",
    "## Задача\n",
    "Дано целое число $1 \\le n \\le 10^3$ и массив $A[1\\ldots n]$ натуральных чисел, не превосходящих $2 \\cdot 10^9$. Выведите максимальное $1 \\le k \\le n$, для которого найдётся подпоследовательность $1 \\le i_1 \\lt i_2 \\lt \\ldots \\lt i_k \\le n$ длины $k$, в которой каждый элемент делится на предыдущий (формально: для  всех $1≤j<k, A[i_j]\\, | \\,A[i_{j+1}]$)."
   ]
  },
  {
   "cell_type": "code",
   "execution_count": 6,
   "metadata": {},
   "outputs": [],
   "source": [
    "def get_LIS_bottom_up_divide(A):\n",
    "    n = len(A)\n",
    "    D = [0] * n\n",
    "    prev = [0] * n\n",
    "    for i in range(0, n):\n",
    "        D[i] = 1\n",
    "        prev[i] = -1\n",
    "        for j in range (0, i):\n",
    "            if A[j] <= A[i] and D[j] + 1 > D[i] and A[i] % A[j] == 0:\n",
    "                D[i] = D[j] + 1\n",
    "                prev[i] = j\n",
    "    ans = 0\n",
    "    for i in range(0, n):\n",
    "        ans = max(ans, D[i])\n",
    "    return ans"
   ]
  },
  {
   "cell_type": "markdown",
   "metadata": {},
   "source": [
    "## Тестирование"
   ]
  },
  {
   "cell_type": "code",
   "execution_count": 12,
   "metadata": {},
   "outputs": [],
   "source": [
    "def test():\n",
    "    assert get_LIS_bottom_up_divide([3, 6, 7, 12]) == 3\n",
    "    assert get_LIS_bottom_up_divide([1, 1, 1, 1]) == 4\n",
    "    assert get_LIS_bottom_up_divide([4, 5, 6, 7]) == 1\n",
    "    assert get_LIS_bottom_up_divide([4, 5, 8]) == 2\n",
    "    assert get_LIS_bottom_up_divide([4, 5, 8, 16]) == 3"
   ]
  },
  {
   "cell_type": "code",
   "execution_count": 14,
   "metadata": {},
   "outputs": [
    {
     "name": "stdout",
     "output_type": "stream",
     "text": [
      "Проверка прошла успешно!\n"
     ]
    }
   ],
   "source": [
    "try:\n",
    "    test()\n",
    "    print('Проверка прошла успешно!')    \n",
    "except:\n",
    "    print('Всё пропало, шеф!')"
   ]
  }
 ],
 "metadata": {
  "kernelspec": {
   "display_name": "Python 3",
   "language": "python",
   "name": "python3"
  },
  "language_info": {
   "codemirror_mode": {
    "name": "ipython",
    "version": 3
   },
   "file_extension": ".py",
   "mimetype": "text/x-python",
   "name": "python",
   "nbconvert_exporter": "python",
   "pygments_lexer": "ipython3",
   "version": "3.7.3"
  },
  "toc": {
   "base_numbering": 1,
   "nav_menu": {},
   "number_sections": true,
   "sideBar": true,
   "skip_h1_title": false,
   "title_cell": "Table of Contents",
   "title_sidebar": "Contents",
   "toc_cell": false,
   "toc_position": {
    "height": "calc(100% - 180px)",
    "left": "10px",
    "top": "150px",
    "width": "178.333px"
   },
   "toc_section_display": true,
   "toc_window_display": false
  }
 },
 "nbformat": 4,
 "nbformat_minor": 2
}