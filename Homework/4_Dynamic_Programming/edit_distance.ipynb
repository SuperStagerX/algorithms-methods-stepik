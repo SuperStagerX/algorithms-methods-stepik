{
 "cells": [
  {
   "cell_type": "code",
   "execution_count": 1,
   "metadata": {},
   "outputs": [],
   "source": [
    "import numpy as np\n",
    "from functools import lru_cache\n",
    "from timing import timed, compare\n",
    "from matplotlib import pyplot as plt"
   ]
  },
  {
   "cell_type": "markdown",
   "metadata": {},
   "source": [
    "# Динамическое программирование\n",
    "\n",
    "Динамическое программирование в теории управления и теории вычислительных систем — способ решения сложных задач путём разбиения их на более простые подзадачи. Он применим к задачам с оптимальной подструктурой, выглядящим как набор перекрывающихся подзадач, сложность которых чуть меньше исходной. В этом случае время вычислений, по сравнению с «наивными» методами, можно значительно сократить.\n",
    "\n",
    "Ключевая идея в динамическом программировании достаточно проста. Как правило, чтобы решить поставленную задачу, требуется решить отдельные части задачи (подзадачи), после чего объединить решения подзадач в одно общее решение. Часто многие из этих подзадач одинаковы. Подход динамического программирования состоит в том, чтобы решить каждую подзадачу только один раз, сократив тем самым количество вычислений. Это особенно полезно в случаях, когда число повторяющихся подзадач экспоненциально велико. \n",
    "\n",
    "- Вместо исходной задачи решается множество перекрывающихся подзадач. Ответы для подзадач хранятся в таблице.\n",
    "- Динамическое программирование назад (или сверху вниз): рекурсивно от больших задач к меньшим.\n",
    "- Динамическое программирование вперед (или снизу вверх): итеративно от меньших задач к большим.\n",
    "- Для некоторых задач можно уменьшить используемую память, проанализировав структуру таблицы.\n",
    "\n",
    "# Расстояние редактирования\n",
    "Вычислите расстояние редактирования двух данных непустых строк длины не более $10^2$, содержащих строчные буквы латинского алфавита.\n",
    "\n",
    "Sample Input 1:\n",
    "```\n",
    "ab\n",
    "ab\n",
    "```\n",
    "Sample Output 1:\n",
    "```\n",
    "0\n",
    "```\n",
    "Sample Input 2:\n",
    "```\n",
    "short\n",
    "ports\n",
    "```\n",
    "Sample Output 2:\n",
    "```\n",
    "3\n",
    "```\n",
    "### Функции из лекции"
   ]
  },
  {
   "cell_type": "code",
   "execution_count": 2,
   "metadata": {},
   "outputs": [],
   "source": [
    "import random\n",
    "import sys\n",
    "from functools import lru_cache\n",
    "\n",
    "def edit_distance_iters(s1,s2):\n",
    "    m, n = len(s1), len(s2)\n",
    "    d = [[0] * (n + 1) for _ in range(m + 1)]\n",
    "    for i in range(m + 1):\n",
    "        d[i][0] = i\n",
    "    for j in range(n + 1):\n",
    "        d[0][j] = j    \n",
    "    \n",
    "    for i in range(1, m + 1):\n",
    "        for j in range(1, n + 1):\n",
    "            d[i][j] = min(d[i][j - 1] + 1,\n",
    "                      d[i - 1][j] + 1,\n",
    "                      d[i - 1][j - 1] + (s1[i-1] != s2[j - 1]))\n",
    "    return d[m][n]\n",
    "\n",
    "def edit_distance_iters_V2(s1,s2):\n",
    "    m, n = len(s1), len(s2)\n",
    "    if m < n:\n",
    "        return edit_distance_iters_V2(s2,s1)\n",
    "    \n",
    "    prev = list(range(n + 1))\n",
    "    for i, ch1 in enumerate(s1, 1):\n",
    "        curr = [i] #0(min(m,n))\n",
    "        for j, ch2 in enumerate(s2, 1):\n",
    "            curr.append(min(curr[-1] + 1,\n",
    "                      prev[j] + 1,\n",
    "                      prev[j - 1] + (ch1 != ch2)))\n",
    "        prev = curr\n",
    "    return prev[n]\n",
    "\n",
    "def edit_distance_recurs(s1,s2):\n",
    "    @lru_cache(maxsize=None)\n",
    "    def d(i,j):\n",
    "        if i == 0 or j == 0:\n",
    "            return max(i,j)\n",
    "        else:\n",
    "            return min(d(i, j - 1) + 1,\n",
    "                      d(i - 1, j) + 1,\n",
    "                      d(i - 1, j - 1) + (s1[i-1] != s2[j - 1]))\n",
    "    return d(len(s1), len(s2))"
   ]
  },
  {
   "cell_type": "markdown",
   "metadata": {},
   "source": [
    "### Тесты"
   ]
  },
  {
   "cell_type": "code",
   "execution_count": 3,
   "metadata": {},
   "outputs": [],
   "source": [
    "def test(func_edit_distance, n_iter=10):\n",
    "    for i in range(n_iter):\n",
    "        lenght = random.randint(0,100)\n",
    "        s = \"\".join(random.choice(\"01\") for _ in range(lenght))\n",
    "        \n",
    "        assert func_edit_distance(s, \"\") == func_edit_distance(\"\", s) == len(s)\n",
    "        assert func_edit_distance(s,s) == 0\n",
    "    assert func_edit_distance(\"ab\", \"ab\") == 0\n",
    "    assert func_edit_distance(\"short\", \"ports\") == 3"
   ]
  },
  {
   "cell_type": "code",
   "execution_count": 4,
   "metadata": {},
   "outputs": [
    {
     "name": "stdout",
     "output_type": "stream",
     "text": [
      "edit_distance_recurs отработал без ошибок\n",
      "edit_distance_iters отработал без ошибок\n",
      "edit_distance_iters_V2 отработал без ошибок\n"
     ]
    }
   ],
   "source": [
    "func_dic = {\n",
    "    'edit_distance_recurs':edit_distance_recurs,\n",
    "    'edit_distance_iters':edit_distance_iters,\n",
    "    'edit_distance_iters_V2':edit_distance_iters_V2\n",
    "}\n",
    "for name in func_dic:\n",
    "    try:\n",
    "        test(func_dic[name])\n",
    "        print(name, 'отработал без ошибок')\n",
    "    except:\n",
    "        print(name, 'отработал с ошибками')       "
   ]
  },
  {
   "cell_type": "markdown",
   "metadata": {},
   "source": [
    "### Мои функции"
   ]
  },
  {
   "cell_type": "code",
   "execution_count": 5,
   "metadata": {},
   "outputs": [],
   "source": [
    "def diff(char1, char2):\n",
    "    return 0 if char1 == char2 else 1\n",
    "def edit_dist_td(i, j):\n",
    "    if i == 0:\n",
    "        D[i,j] = j\n",
    "    elif j == 0:\n",
    "        D[i,j] = i\n",
    "    else:\n",
    "        ins = edit_dist_td(i, j - 1) + 1\n",
    "        delete = edit_dist_td(i - 1, j) + 1\n",
    "        sub = edit_dist_td(i - 1, j - 1) + diff(A[i-1], B[j-1])\n",
    "        D[i,j] = min(ins,delete,sub)\n",
    "    return D[i,j]\n",
    "\n",
    "def edit_dist_td_iters(A, B):\n",
    "    n, m = len(A), len(B)\n",
    "    D = np.full((n,m), np.inf)\n",
    "    for i in range(n):\n",
    "        D[i,0] = i\n",
    "    for j in range(m):\n",
    "        D[0,j] = j\n",
    "    for i in range(1,n):\n",
    "        for j in range(1,m):\n",
    "            d = diff(A[i-1], B[j-1])\n",
    "            D[i,j] = min(D[i-1,j],D[i,j-1]+1,D[i-1,j-1]+d)\n",
    "    return D[n,m]"
   ]
  },
  {
   "cell_type": "markdown",
   "metadata": {},
   "source": [
    "### Тесты"
   ]
  },
  {
   "cell_type": "code",
   "execution_count": 6,
   "metadata": {},
   "outputs": [
    {
     "name": "stdout",
     "output_type": "stream",
     "text": [
      "Расстояние между хлеб и пиво равно 4.0\n",
      "[[0. 1. 2. 3. 4.]\n",
      " [1. 1. 2. 3. 4.]\n",
      " [2. 2. 2. 3. 4.]\n",
      " [3. 3. 3. 3. 4.]\n",
      " [4. 4. 4. 4. 4.]]\n"
     ]
    }
   ],
   "source": [
    "A = 'хлеб'\n",
    "B = 'пиво'\n",
    "D = np.full((len(A) + 1, len(B) + 1), np.inf)\n",
    "dist = edit_dist_td(len(A), len(B))\n",
    "print('Расстояние между', A, 'и', B, 'равно', dist)\n",
    "print(D)"
   ]
  }
 ],
 "metadata": {
  "kernelspec": {
   "display_name": "Python 3",
   "language": "python",
   "name": "python3"
  },
  "language_info": {
   "codemirror_mode": {
    "name": "ipython",
    "version": 3
   },
   "file_extension": ".py",
   "mimetype": "text/x-python",
   "name": "python",
   "nbconvert_exporter": "python",
   "pygments_lexer": "ipython3",
   "version": "3.7.3"
  },
  "toc": {
   "base_numbering": 1,
   "nav_menu": {},
   "number_sections": true,
   "sideBar": true,
   "skip_h1_title": false,
   "title_cell": "Table of Contents",
   "title_sidebar": "Contents",
   "toc_cell": false,
   "toc_position": {},
   "toc_section_display": true,
   "toc_window_display": true
  }
 },
 "nbformat": 4,
 "nbformat_minor": 2
}
