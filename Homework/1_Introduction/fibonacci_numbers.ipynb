{
 "cells": [
  {
   "cell_type": "code",
   "execution_count": 1,
   "metadata": {},
   "outputs": [],
   "source": [
    "import numpy as np\n",
    "from functools import lru_cache\n",
    "from timing import timed, compare\n",
    "from matplotlib import pyplot as plt"
   ]
  },
  {
   "cell_type": "markdown",
   "metadata": {},
   "source": [
    "# Числа Фибоначчи\n",
    "Числа Фибоначчи — элементы числовой последовательности 0, 1, 1, 2, 3, 5, 8, 13, 21, 34, 55, 89, 144, 233, 377, 610, 987, 1597, 2584, 4181, 6765, 10946, 17711, … (последовательность A000045 в OEIS), в которой первые два числа равны 0 и 1, а каждое последующее число равно сумме двух предыдущих чисел. Названы в честь средневекового математика Леонардо Пизанского (известного как Фибоначчи).\n",
    "## Объявление функций\n",
    "- Рекурсия. Решаем задачу в лоб с помощью рекурсии. Таким образом одно и то же значение подсчитывается по несколько раз. Чем  большое число мы передадим, тем дольше он будет считать. Экспоненциальная скорость роста.\n",
    "- Кэш. Вместо того, чтобы с нуля подсчитывать предыдущие два значения, сохраним уже вычисленные значение в кэш. Из него мы и будем брать предыдущие значения, если они были подсчитаны, в противном случае значение вычисляется и сохраняется в кэш.\n",
    "- Итерации. Функция с рекурсией может упасть в ошибку, если на вход подать большое число. В языке Python есть ограничение на количество рекурсий. Перепишем функцию под итерации, сохраняя значения предыдущих двух элементов, чтобы не было выполнения одних и тех же вызовов, как в рекурсии. Получим динамическое программирование.\n",
    "- Формула. Можно вычислить число Фибоначчи с помощью формулы. В ней есть корень и деление, поэтому при больших числах возможны погрешности в точности из-за плавающей запятой и проблемы с переполнением!"
   ]
  },
  {
   "cell_type": "code",
   "execution_count": 2,
   "metadata": {},
   "outputs": [],
   "source": [
    "def get_recurs_fib(n):\n",
    "    assert n >= 0\n",
    "    return n if n <=1 else get_recurs_fib(n - 1) + get_recurs_fib(n - 2)"
   ]
  },
  {
   "cell_type": "code",
   "execution_count": 3,
   "metadata": {},
   "outputs": [],
   "source": [
    "cache = {}\n",
    "def get_cache_fib(n):\n",
    "    assert n >= 0\n",
    "    if n not in cache:\n",
    "        cache[n] = n if n <=1 else get_cache_fib(n - 1) + get_cache_fib (n - 2)\n",
    "    return cache[n]"
   ]
  },
  {
   "cell_type": "code",
   "execution_count": 4,
   "metadata": {},
   "outputs": [],
   "source": [
    "def get_iter_fib(n):\n",
    "    assert n>= 0 \n",
    "    prev, curr = 0, 1\n",
    "    for i in range(n - 1):\n",
    "        prev, curr = curr, prev + curr\n",
    "    return curr"
   ]
  },
  {
   "cell_type": "code",
   "execution_count": 5,
   "metadata": {},
   "outputs": [],
   "source": [
    "def memo(f):\n",
    "    cache = {}\n",
    "    def inner(n):\n",
    "        if n not in cache:\n",
    "            cache[n] = f(n)\n",
    "        return cache[n]\n",
    "    return inner"
   ]
  },
  {
   "cell_type": "code",
   "execution_count": 6,
   "metadata": {},
   "outputs": [],
   "source": [
    "get_recurs_cache_fib = memo(get_recurs_fib)"
   ]
  },
  {
   "cell_type": "code",
   "execution_count": 7,
   "metadata": {},
   "outputs": [],
   "source": [
    "get_iter_cache_fib = memo(get_iter_fib)"
   ]
  },
  {
   "cell_type": "code",
   "execution_count": 8,
   "metadata": {},
   "outputs": [],
   "source": [
    "get_recurs_cache_fib_v2 = lru_cache(maxsize = None)(get_recurs_fib)"
   ]
  },
  {
   "cell_type": "code",
   "execution_count": 9,
   "metadata": {},
   "outputs": [],
   "source": [
    "def get_formula_fib(n):\n",
    "    return (1 / np.sqrt(5) * (((1 + np.sqrt(5))/(2))**n - ((1 - np.sqrt(5))/(2))**n)).astype(int)"
   ]
  },
  {
   "cell_type": "code",
   "execution_count": 10,
   "metadata": {},
   "outputs": [],
   "source": [
    "fib_methods = {\n",
    "    'recurs': get_recurs_fib,\n",
    "    'cache': get_cache_fib,\n",
    "    'iter': get_iter_fib,\n",
    "    'recurs_cache': get_recurs_cache_fib,\n",
    "    'iter_cache': get_iter_cache_fib,\n",
    "    'formula': get_formula_fib\n",
    "}\n",
    "def get_fib(n, method):\n",
    "    return fib_methods[method](n)"
   ]
  },
  {
   "cell_type": "markdown",
   "metadata": {},
   "source": [
    "## Задачи на программирование\n",
    "### Небольшое число Фибоначчи\n",
    "Дано целое число $1 \\le n \\le 40$, необходимо вычислить $n$-е число Фибоначчи (напомним, что $F_0=0$, $F_1=1$ и $F_n=F_{n-1}+F_{n-2}$ при $n \\ge 2$)."
   ]
  },
  {
   "cell_type": "code",
   "execution_count": 11,
   "metadata": {
    "scrolled": true
   },
   "outputs": [
    {
     "name": "stdout",
     "output_type": "stream",
     "text": [
      "recurs 514229\n",
      "cache 514229\n",
      "iter 514229\n",
      "recurs_cache 514229\n",
      "iter_cache 514229\n",
      "formula 514229\n"
     ]
    }
   ],
   "source": [
    "n = 29\n",
    "for method in fib_methods:\n",
    "    print(method, get_fib(n, method))"
   ]
  },
  {
   "cell_type": "markdown",
   "metadata": {},
   "source": [
    "### Последняя цифра $n$-го числа Фибоначчи\n",
    "Дано число $1 \\le n \\le 10^7$, необходимо найти последнюю цифру $n$-го числа Фибоначчи.\n",
    "\n",
    "Как мы помним, числа Фибоначчи растут очень быстро, поэтому при их вычислении нужно быть аккуратным с переполнением. В данной задаче, впрочем, этой проблемы можно избежать, поскольку нас интересует только последняя цифра числа Фибоначчи: если $0 \\le a,b \\le 9$ — последние цифры чисел $F_i$ и $F_{i+1}$ соответственно, то $(a+b) \\bmod{10} $ — последняя цифра числа $F_{i+2}$."
   ]
  },
  {
   "cell_type": "code",
   "execution_count": 12,
   "metadata": {},
   "outputs": [],
   "source": [
    "def get_iter_fib_digit(n):\n",
    "    assert n>= 0 \n",
    "    f0, f1 = 0, 1\n",
    "    for i in range(n - 1):\n",
    "        f0, f1 = np.mod(f1, 10), np.mod(f0 + f1, 10)\n",
    "    return f1"
   ]
  },
  {
   "cell_type": "code",
   "execution_count": 13,
   "metadata": {},
   "outputs": [
    {
     "data": {
      "text/plain": [
       "5"
      ]
     },
     "execution_count": 13,
     "metadata": {},
     "output_type": "execute_result"
    }
   ],
   "source": [
    "get_iter_fib_digit(25)"
   ]
  },
  {
   "cell_type": "markdown",
   "metadata": {},
   "source": [
    "### Огромное число Фибоначчи по модулю\n",
    "Даны целые числа $1 \\le n \\le 10^{18}$ и $2 \\le m \\le 10^5$, необходимо найти остаток от деления $n$-го числа Фибоначчи на $m$.\n",
    "\n",
    "__Решение:__ Задачу можно решить с помощью периода Пизано $\\pi (m)$ — это длина периода последовательности Фибоначчи по модулю заданного натурального числа $m$. Последовательность Фибоначчи по модулю любого натурального числа $m$ периодична.\n",
    "\n",
    "\n",
    "Определение $\\pi (m)$ при $m=4$\n",
    "\n",
    "|i| 0 | 1 | 2 | 3 | 4 | 5 | 6 | 7  | 8  | 9  | 10 | 11 | 12  | 13  | 14  | 15  | 16  | 17   | 18   | … |\n",
    "|--|---|---|---|---|---|---|---|----|----|----|----|----|-----|-----|-----|-----|-----|------|------|---|\n",
    "| $F_{i}$       | 0 | 1 | 1 | 2 | 3 | 5 | 8 | 13 | 21 | 34 | 55 | 89 | 144 | 233 | 377 | 610 | 987 | 1597 | 2584 | … |\n",
    "| $F_{i}\\mod m$ | __0__ | __1__ | __1__ | __2__ | __3__ | __1__ | 0 | 1  | 1  | 2  | 3  | 1  | 0   | 1   | 1   | 2   | 3   | 1    | 0    | … |\n"
   ]
  },
  {
   "cell_type": "code",
   "execution_count": 14,
   "metadata": {},
   "outputs": [],
   "source": [
    "def get_pisano_period(m, n):\n",
    "    assert m > 0\n",
    "    assert n > 0  \n",
    "    \n",
    "    period, i = [0,1], 2\n",
    "    while not (period[i-2] == 0 and period [i - 1] == 1) or i <= 2:\n",
    "        period.append((period[i - 2] + period[i - 1]) % m)\n",
    "        i+=1\n",
    "    return (period[n % (i-2)])\n",
    "\n",
    "#def main():\n",
    "#    n, m = map(int, input().split())\n",
    "#    print(get_pisano_period(n, m))\n",
    "#\n",
    "#if __name__ == \"__main__\":\n",
    "#    main()"
   ]
  },
  {
   "cell_type": "code",
   "execution_count": 15,
   "metadata": {},
   "outputs": [
    {
     "data": {
      "text/plain": [
       "8"
      ]
     },
     "execution_count": 15,
     "metadata": {},
     "output_type": "execute_result"
    }
   ],
   "source": [
    "get_pisano_period(133, 6)"
   ]
  },
  {
   "cell_type": "markdown",
   "metadata": {},
   "source": [
    "## Замеры быстродействия"
   ]
  },
  {
   "cell_type": "code",
   "execution_count": 16,
   "metadata": {},
   "outputs": [
    {
     "data": {
      "image/png": "[encoded data removed]",
      "text/plain": [
       "<Figure size 432x288 with 1 Axes>"
      ]
     },
     "metadata": {
      "needs_background": "light"
     },
     "output_type": "display_data"
    }
   ],
   "source": [
    "n = 6\n",
    "compare(fib_methods.values(), np.arange(n))"
   ]
  },
  {
   "cell_type": "code",
   "execution_count": 17,
   "metadata": {},
   "outputs": [
    {
     "data": {
      "image/png": "[encoded data removed]",
      "text/plain": [
       "<Figure size 432x288 with 1 Axes>"
      ]
     },
     "metadata": {
      "needs_background": "light"
     },
     "output_type": "display_data"
    }
   ],
   "source": [
    "n = 11\n",
    "compare(fib_methods.values(), np.arange(n))"
   ]
  },
  {
   "cell_type": "code",
   "execution_count": 18,
   "metadata": {},
   "outputs": [
    {
     "data": {
      "image/png": "[encoded data removed]",
      "text/plain": [
       "<Figure size 432x288 with 1 Axes>"
      ]
     },
     "metadata": {
      "needs_background": "light"
     },
     "output_type": "display_data"
    }
   ],
   "source": [
    "n = 21\n",
    "compare(fib_methods.values(), np.arange(n))"
   ]
  },
  {
   "cell_type": "markdown",
   "metadata": {},
   "source": [
    "Рекурсия при значениях больше 5 начинает работать медленее остальных методов."
   ]
  }
 ],
 "metadata": {
  "kernelspec": {
   "display_name": "Python 3",
   "language": "python",
   "name": "python3"
  },
  "language_info": {
   "codemirror_mode": {
    "name": "ipython",
    "version": 3
   },
   "file_extension": ".py",
   "mimetype": "text/x-python",
   "name": "python",
   "nbconvert_exporter": "python",
   "pygments_lexer": "ipython3",
   "version": "3.7.3"
  },
  "toc": {
   "base_numbering": 1,
   "nav_menu": {},
   "number_sections": true,
   "sideBar": true,
   "skip_h1_title": false,
   "title_cell": "Table of Contents",
   "title_sidebar": "Contents",
   "toc_cell": false,
   "toc_position": {},
   "toc_section_display": true,
   "toc_window_display": true
  }
 },
 "nbformat": 4,
 "nbformat_minor": 2
}
