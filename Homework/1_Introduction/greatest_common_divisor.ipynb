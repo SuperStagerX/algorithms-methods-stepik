{
 "cells": [
  {
   "cell_type": "code",
   "execution_count": 1,
   "metadata": {},
   "outputs": [],
   "source": [
    "import numpy as np\n",
    "from timing import timed, compare\n",
    "import random\n",
    "from matplotlib import pyplot as plt"
   ]
  },
  {
   "cell_type": "markdown",
   "metadata": {},
   "source": [
    "# Наибольший общий делитель\n",
    "Наибольшим общим делителем (НОД) неотрицательных целых чисел a и b называется наибольшее целое d, которое делит и a, и b.\n",
    "## Объявление функций\n",
    "- Наивный способ. Решаем в лоб перебором всех чисел. На больших числах компьютер умирает.\n",
    "- Алгоритм Евклида. С использованием леммы об остатке. Пусть a ≥ b > 0 и r  остаток от деления a на b. Тогда НОД(a, b) = НОД(r , b)."
   ]
  },
  {
   "cell_type": "code",
   "execution_count": 2,
   "metadata": {},
   "outputs": [],
   "source": [
    "def get_naive_gcd(a, b):\n",
    "    assert a >= 0 and b>= 0\n",
    "    for d in reversed(range(max(a,b) + 1)):\n",
    "        if d == 0 or a % d == b% d == 0:\n",
    "            return d"
   ]
  },
  {
   "cell_type": "code",
   "execution_count": 3,
   "metadata": {},
   "outputs": [],
   "source": [
    "def get_eucl_iter_gcd(a, b):\n",
    "    while a and b:\n",
    "        if a>= b:\n",
    "            a %= b\n",
    "        else:\n",
    "            b %= a\n",
    "    return max(a, b)       "
   ]
  },
  {
   "cell_type": "code",
   "execution_count": 4,
   "metadata": {},
   "outputs": [],
   "source": [
    "def get_eucl_recurs_gcd(a, b):\n",
    "    assert a >= 0 and b>= 0\n",
    "    if a == 0 or b == 0:\n",
    "        return max(a, b)\n",
    "    elif a >= b:\n",
    "        return get_eucl_recurs_gcd(a % b, b)\n",
    "    else:\n",
    "        return get_eucl_recurs_gcd(b % a, a)"
   ]
  },
  {
   "cell_type": "code",
   "execution_count": 5,
   "metadata": {},
   "outputs": [],
   "source": [
    "def get_eucl_recurs_gcd_v2(a, b):\n",
    "    assert a >= 0 and b>= 0\n",
    "    if a == 0 or b == 0:\n",
    "        return max(a, b)\n",
    "    return get_eucl_recurs_gcd_v2(b % a, a)"
   ]
  },
  {
   "cell_type": "code",
   "execution_count": 6,
   "metadata": {},
   "outputs": [],
   "source": [
    "gcd_methods = {\n",
    "    'naive': get_naive_gcd,\n",
    "    'eucl_iter': get_eucl_iter_gcd,\n",
    "    'eucl_recurs': get_eucl_recurs_gcd,\n",
    "    'eucl_recurs_v2': get_eucl_recurs_gcd_v2\n",
    "}\n",
    "def get_gcd(a, b, method):\n",
    "    return gcd_methods[method](a, b)"
   ]
  },
  {
   "cell_type": "markdown",
   "metadata": {},
   "source": [
    "## Проверка значений"
   ]
  },
  {
   "cell_type": "code",
   "execution_count": 7,
   "metadata": {},
   "outputs": [],
   "source": [
    "def test(gcd, n_iter):\n",
    "    for i in range(n_iter):\n",
    "        c = random.randint(1, 1024)\n",
    "        a = c * random.randint(1, 128)\n",
    "        b = c * random.randint(1, 128)\n",
    "        assert gcd(a,a) == gcd(a, 0) == a\n",
    "        assert gcd(b,b) == gcd(b, 0) == b\n",
    "        assert gcd(a,1) == gcd(a, 1) == 1\n",
    "        d = gcd(a,b)\n",
    "        assert a % d == b % d == 0"
   ]
  },
  {
   "cell_type": "code",
   "execution_count": 8,
   "metadata": {},
   "outputs": [
    {
     "name": "stdout",
     "output_type": "stream",
     "text": [
      "naive Все хорошо\n",
      "eucl_iter Все хорошо\n",
      "eucl_recurs Все хорошо\n",
      "eucl_recurs_v2 Все хорошо\n"
     ]
    }
   ],
   "source": [
    "n = 500\n",
    "for method in gcd_methods:\n",
    "    try:\n",
    "        test(gcd_methods[method], n)\n",
    "        print(method, 'Все хорошо')\n",
    "    except:\n",
    "        print(method, 'Все плохо') "
   ]
  },
  {
   "cell_type": "markdown",
   "metadata": {},
   "source": [
    "## Замеры быстродействия"
   ]
  },
  {
   "cell_type": "code",
   "execution_count": 9,
   "metadata": {},
   "outputs": [
    {
     "data": {
      "image/png": "[encoded data removed]",
      "text/plain": [
       "<Figure size 432x288 with 1 Axes>"
      ]
     },
     "metadata": {
      "needs_background": "light"
     },
     "output_type": "display_data"
    }
   ],
   "source": [
    "ar = np.array([[13,3],[66,8],[123,12],[1253,12],[5789,15],[6257,123],[12466,254],\n",
    "               [25468,456],[45668,488],[156168,545],[256879,879],[458796,4568]])\n",
    "compare(gcd_methods.values(), ar, isOneArgs = False)"
   ]
  },
  {
   "cell_type": "markdown",
   "metadata": {},
   "source": [
    "Наивный алгоритм бьёт рекорды быстродействия)"
   ]
  }
 ],
 "metadata": {
  "kernelspec": {
   "display_name": "Python 3",
   "language": "python",
   "name": "python3"
  },
  "language_info": {
   "codemirror_mode": {
    "name": "ipython",
    "version": 3
   },
   "file_extension": ".py",
   "mimetype": "text/x-python",
   "name": "python",
   "nbconvert_exporter": "python",
   "pygments_lexer": "ipython3",
   "version": "3.7.3"
  },
  "toc": {
   "base_numbering": 1,
   "nav_menu": {},
   "number_sections": true,
   "sideBar": true,
   "skip_h1_title": false,
   "title_cell": "Table of Contents",
   "title_sidebar": "Contents",
   "toc_cell": false,
   "toc_position": {
    "height": "calc(100% - 180px)",
    "left": "10px",
    "top": "150px",
    "width": "230.458px"
   },
   "toc_section_display": true,
   "toc_window_display": true
  }
 },
 "nbformat": 4,
 "nbformat_minor": 2
}
