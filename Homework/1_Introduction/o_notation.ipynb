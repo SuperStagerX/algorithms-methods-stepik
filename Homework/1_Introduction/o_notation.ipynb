{
 "cells": [
  {
   "cell_type": "code",
   "execution_count": 1,
   "metadata": {},
   "outputs": [],
   "source": [
    "import math\n",
    "from sympy import *\n",
    "from numpy.random import choice"
   ]
  },
  {
   "cell_type": "markdown",
   "metadata": {},
   "source": [
    "# О-символика\n",
    "Этот ноутбук посвящён дикому заданию \"правильная скорость роста\" - https://stepik.org/lesson/13230/step/10?unit=3416\n",
    "## Теория\n",
    "\n",
    "### Определение\n",
    "Пусть $f , g : N → R>0$. Говорим, что $f$ растјт не быстрее $g$ и пишем $f (n) = O(g(n))$ или $f ⪯ g$, если существует такая\n",
    "константа $c > 0$, что $f (n) ≤ c · g(n)$ для всех $n ∈ N$. \n",
    "\n",
    "Мы будем использовать O-символику для оценки времени работы алгоритмов. \n",
    "\n",
    "### Плюсы и минусы\n",
    "Преимущества:\n",
    "- характеризует зависимость времени работы от размера входных данных\n",
    "- более простые оценки ($O(n^2)$ вместо $3n^2 + 5n + 2$)\n",
    "- упрощенный анализ (не думаем, сколько в действительности занимает каждая отдельная операция)\n",
    "- не зависит от машины, на которой запускается алгоритм\n",
    "\n",
    "Недостатки:\n",
    "- O-символика скрывает константные множители, которые на практике могут оказаться очень важными\n",
    "- O-символика говорит только про скорость роста\n",
    "\n",
    "### Пример\n",
    "$3n^2 + 5n + 2 = O(n^2)$, поскольку при $n ≥ 1$ выполнено $3n^2 + 5n + 2 ≤ 3n^2 + 5n^2 + 2n^2 = 10n^2$.\n",
    "\n",
    "### Связанные определения\n",
    "- Пусть $f , g : N → R>0$. $f (n) = Ω(g(n))$ и $f ⪰ g$, если существует положительная константа $c$, для которой $f (n) ≥ c · g(n)$ ($f$ растет не медленнее $g$) \n",
    "- $f (n) = Θ(g(n))$ и $f ≍ g$, если $f = O(g)$ и $f = Ω(g)$ ($f$ и $g$ имеют одинаковую скорость роста)\n",
    "- $f (n) = o(g(n))$ и $f ≺ g$, если $\\frac{f (n)}{g(n)} → 0$ при $n → ∞$ ($f$ растет медленнее $g$).\n",
    "\n",
    "### Использование\n",
    "Чтобы проверить равенства вида $f(n)=O(g(n))$ нужно найти $\\lim_{n\\rightarrow \\infty}\\frac{f(n)}{g(n)}$. Если он равен константе, равенства верны и для $O$, и для $\\Omega$, и для $\\Theta$. Если бесконечности, то только для $\\Omega$. Если нулю, то только для $O$.\n",
    "\n",
    "\n",
    "## Задание\n",
    "### Формулировка\n",
    "Упорядочите данные функции по возрастанию скорости роста (сверху — медленнее всего растущая функция, снизу — быстрее всего растущая).\n",
    "### Как буду решать\n",
    "Согласно пункту \"Использование\" из предыдущей части будем сравнивать рост функций через предел. В качестве алгоритма будем использовать быструю сортировку."
   ]
  },
  {
   "cell_type": "code",
   "execution_count": 2,
   "metadata": {},
   "outputs": [],
   "source": [
    "def quicksort_func(funcs):\n",
    "    if len(funcs) <= 1:\n",
    "        return funcs\n",
    "    else:\n",
    "        g = choice(funcs)\n",
    "        s_funcs = []\n",
    "        m_funcs = []\n",
    "        e_funcs = []\n",
    "        for f in funcs:\n",
    "            res = str(limit(f/g, n, oo))\n",
    "            if res == '0':\n",
    "                s_funcs.append(f)\n",
    "            elif res == 'oo':\n",
    "                m_funcs.append(f)\n",
    "            else:\n",
    "                e_funcs.append(f)\n",
    "        return quicksort_func(s_funcs) + e_funcs + quicksort_func(m_funcs)"
   ]
  },
  {
   "cell_type": "code",
   "execution_count": 3,
   "metadata": {},
   "outputs": [],
   "source": [
    "n = Symbol('n')\n",
    "funcs = [sqrt(log(n, 4)),\n",
    "  log(log(n, 2), 2),\n",
    "  log(n, 3),\n",
    "  sqrt(n),\n",
    "  n / log(n, 5),\n",
    "  (log(n, 2)) ** 2,\n",
    "  log(factorial(n), 2),\n",
    "  3 ** log(n, 2),\n",
    "  n ** 2,\n",
    "  7 ** log(n, 2),\n",
    "  log(n, 2) ** log(n, 2),\n",
    "  n ** log(n, 2),\n",
    "  n ** sqrt(n),\n",
    "  2 ** n,\n",
    "  4 ** n,\n",
    "  2 ** (3 * n),\n",
    "  factorial(n),\n",
    "  2 ** 2 ** n\n",
    "]"
   ]
  },
  {
   "cell_type": "code",
   "execution_count": 4,
   "metadata": {},
   "outputs": [
    {
     "data": {
      "text/plain": [
       "[log(log(n)/log(2))/log(2),\n",
       " sqrt(log(n))/sqrt(log(4)),\n",
       " log(n)/log(3),\n",
       " log(n)**2/log(2)**2,\n",
       " sqrt(n),\n",
       " n*log(5)/log(n),\n",
       " log(factorial(n))/log(2),\n",
       " 3**(log(n)/log(2)),\n",
       " n**2,\n",
       " 7**(log(n)/log(2)),\n",
       " (log(n)/log(2))**(log(n)/log(2)),\n",
       " n**(log(n)/log(2)),\n",
       " n**(sqrt(n)),\n",
       " 2**n,\n",
       " 4**n,\n",
       " 2**(3*n),\n",
       " factorial(n),\n",
       " 2**(2**n)]"
      ]
     },
     "execution_count": 4,
     "metadata": {},
     "output_type": "execute_result"
    }
   ],
   "source": [
    "quicksort_func(funcs)"
   ]
  },
  {
   "cell_type": "markdown",
   "metadata": {},
   "source": [
    "Ура, я молодец, с помощью пределов отсортировал столько функций по возрастанию скорости роста)"
   ]
  }
 ],
 "metadata": {
  "kernelspec": {
   "display_name": "Python 3",
   "language": "python",
   "name": "python3"
  },
  "language_info": {
   "codemirror_mode": {
    "name": "ipython",
    "version": 3
   },
   "file_extension": ".py",
   "mimetype": "text/x-python",
   "name": "python",
   "nbconvert_exporter": "python",
   "pygments_lexer": "ipython3",
   "version": "3.7.3"
  },
  "toc": {
   "base_numbering": 1,
   "nav_menu": {},
   "number_sections": true,
   "sideBar": true,
   "skip_h1_title": false,
   "title_cell": "Table of Contents",
   "title_sidebar": "Contents",
   "toc_cell": false,
   "toc_position": {
    "height": "calc(100% - 180px)",
    "left": "10px",
    "top": "150px",
    "width": "344.633px"
   },
   "toc_section_display": true,
   "toc_window_display": true
  }
 },
 "nbformat": 4,
 "nbformat_minor": 2
}
