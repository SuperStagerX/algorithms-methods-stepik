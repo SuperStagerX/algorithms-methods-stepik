{
 "cells": [
  {
   "cell_type": "code",
   "execution_count": 1,
   "metadata": {},
   "outputs": [],
   "source": [
    "import numpy as np\n",
    "from timing import timed, compare"
   ]
  },
  {
   "cell_type": "markdown",
   "metadata": {},
   "source": [
    "# Сортировка подсчётом - сортировка, не основанная на сравнении\n",
    "\n",
    "Сортировка подсчётом — алгоритм сортировки, в котором используется диапазон чисел сортируемого массива (списка) для подсчёта совпадающих элементов. Применение сортировки подсчётом целесообразно лишь тогда, когда сортируемые числа имеют (или их можно отобразить в) диапазон возможных значений, который достаточно мал по сравнению с сортируемым множеством, например, миллион натуральных чисел меньших 1000.\n",
    "\n",
    "## Задача\n",
    "Первая строка содержит число $1 \\le n \\le 10^4$, вторая — $n$ натуральных чисел, не превышающих 10. Выведите упорядоченную по неубыванию последовательность этих чисел."
   ]
  },
  {
   "cell_type": "code",
   "execution_count": 2,
   "metadata": {},
   "outputs": [],
   "source": [
    "def count_sort(ar):\n",
    "    lenght = max(ar) + 1\n",
    "    counters = [0] * lenght\n",
    "    for a in ar:\n",
    "        counters[a] += 1\n",
    "    ar_new = []\n",
    "    for number in range(lenght):\n",
    "        ar_new += [number] * counters[number] \n",
    "    return ar_new"
   ]
  },
  {
   "cell_type": "markdown",
   "metadata": {},
   "source": [
    "## Тестирование"
   ]
  },
  {
   "cell_type": "code",
   "execution_count": 3,
   "metadata": {},
   "outputs": [
    {
     "name": "stdout",
     "output_type": "stream",
     "text": [
      "[0, 1, 2, 2, 2, 2, 2, 3, 4, 4, 5, 5, 5, 5, 5, 5, 5, 6, 6, 6, 9, 35, 55, 55, 56, 264, 265, 413, 454, 454, 482]\n"
     ]
    }
   ],
   "source": [
    "A = [1,2,3,5,4,5,6,6,5,9,5,56,0,482,265,264,413,35,55,454,5,454,5,2,2,55,6,2,2,5,4]\n",
    "print(count_sort(A))"
   ]
  },
  {
   "cell_type": "code",
   "execution_count": 4,
   "metadata": {},
   "outputs": [],
   "source": [
    "def test(low = 0,  high = 1000, size = 1000, n_iters = 1000):\n",
    "    for _ in range(n_iters):\n",
    "        random_size = np.random.randint(1, size)\n",
    "        ar = np.random.randint(low, high, random_size).tolist()\n",
    "        count_sort_ar = count_sort(ar)\n",
    "        sort_ar = ar.copy()\n",
    "        sort_ar.sort()\n",
    "        assert count_sort_ar == sort_ar"
   ]
  },
  {
   "cell_type": "code",
   "execution_count": 5,
   "metadata": {},
   "outputs": [
    {
     "name": "stdout",
     "output_type": "stream",
     "text": [
      "Проверка прошла успешно!\n"
     ]
    }
   ],
   "source": [
    "try:\n",
    "    test()\n",
    "    print('Проверка прошла успешно!')    \n",
    "except:\n",
    "    print('Всё пропало, шеф!')"
   ]
  },
  {
   "cell_type": "markdown",
   "metadata": {},
   "source": [
    "## Производительность"
   ]
  },
  {
   "cell_type": "code",
   "execution_count": 6,
   "metadata": {},
   "outputs": [
    {
     "data": {
      "image/png": "[encoded data removed]",
      "text/plain": [
       "<Figure size 432x288 with 1 Axes>"
      ]
     },
     "metadata": {
      "needs_background": "light"
     },
     "output_type": "display_data"
    }
   ],
   "source": [
    "low, high, max_size = 1, 1000, 1000\n",
    "arrs = []\n",
    "for size in range(1, max_size):\n",
    "        arrs.append(np.random.randint(low, high, size).tolist())\n",
    "compare((count_sort, np.sort), arrs)"
   ]
  }
 ],
 "metadata": {
  "kernelspec": {
   "display_name": "Python 3",
   "language": "python",
   "name": "python3"
  },
  "language_info": {
   "codemirror_mode": {
    "name": "ipython",
    "version": 3
   },
   "file_extension": ".py",
   "mimetype": "text/x-python",
   "name": "python",
   "nbconvert_exporter": "python",
   "pygments_lexer": "ipython3",
   "version": "3.7.3"
  },
  "toc": {
   "base_numbering": 1,
   "nav_menu": {},
   "number_sections": true,
   "sideBar": true,
   "skip_h1_title": false,
   "title_cell": "Table of Contents",
   "title_sidebar": "Contents",
   "toc_cell": false,
   "toc_position": {
    "height": "calc(100% - 180px)",
    "left": "10px",
    "top": "150px",
    "width": "384px"
   },
   "toc_section_display": true,
   "toc_window_display": true
  }
 },
 "nbformat": 4,
 "nbformat_minor": 2
}
