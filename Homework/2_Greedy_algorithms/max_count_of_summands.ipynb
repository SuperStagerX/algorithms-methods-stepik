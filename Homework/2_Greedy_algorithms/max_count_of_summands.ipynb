{
 "cells": [
  {
   "cell_type": "code",
   "execution_count": 1,
   "metadata": {},
   "outputs": [],
   "source": [
    "import numpy as np\n",
    "from numpy.random import randint\n",
    "from timing import timed, compare\n",
    "import heapq"
   ]
  },
  {
   "cell_type": "markdown",
   "metadata": {},
   "source": [
    "# Жадные алгоритмы\n",
    "\n",
    "__Жадный алгоритм__ — алгоритм, заключающийся в принятии локально оптимальных решений на каждом этапе, допуская, что конечное решение также окажется оптимальным.\n",
    "\n",
    "__Надёжный шаг.__ Существует оптимальное решение, согласованное с локальным жадным шагом. \n",
    "\n",
    "__Оптимальность подзадач.__ Задача, остающаяся после жадного шага, имеет тот же тип."
   ]
  },
  {
   "cell_type": "markdown",
   "metadata": {},
   "source": [
    "# Различные слагаемые\n",
    "По данному числу $1 \\le n \\le 10^9$ найдите максимальное число $k$, для которого $n$ можно представить как сумму $k$ различных натуральных слагаемых. Выведите в первой строке число $k$, во второй — $k$ слагаемых.\n",
    "\n",
    "__Решение:__ Надежным шагом является взятие самого минимального слагаемого, которое осталось из имеющихся (1, 2, 3 и т.д.). Если разность числа и слагаемого больше или равно нуля, добавляем слагаемое в список слагаемых, оставляем разность числа и слагаемого и продолжаем работать дальше, иначе добавляем само число в список слагаемых и останавливаем работу.\n",
    "\n",
    "|n| term | n_new | terms|\n",
    "|---|---|---|---|\n",
    "|16|1|16 - 1 = 15|[1]| \n",
    "|15|2|15 - 2 = 13|[1, 2]| \n",
    "|13|3|13 - 3 = 10|[1, 2, 3]| \n",
    "|10|4|10 - 4 = 6|[1, 2, 3, 4]| \n",
    "|6|5|6 - 5 = 1|[1, 2, 3, 4, 5]| \n",
    "|1|6|1 - 5 = -4|[1, 2, 3, 4, 6]| \n",
    "\n",
    "## Объявление функций"
   ]
  },
  {
   "cell_type": "code",
   "execution_count": 2,
   "metadata": {},
   "outputs": [],
   "source": [
    "def naive_term_count(num):\n",
    "    assert num > 0\n",
    "    acc = 1\n",
    "    decision = []\n",
    "    while True:\n",
    "        num_new = num - acc\n",
    "        acc_new = acc + 1\n",
    "        if (num_new - acc_new >= 0):\n",
    "            decision.append(acc)\n",
    "            acc = acc_new\n",
    "            num = num_new\n",
    "        else:\n",
    "            decision.append(num)\n",
    "            break   \n",
    "    return acc, decision"
   ]
  },
  {
   "cell_type": "code",
   "execution_count": 3,
   "metadata": {},
   "outputs": [],
   "source": [
    "def term_count(num):\n",
    "    assert num > 0\n",
    "    k = int((-1 + (1 - 4 * -2 * num) ** 0.5) / 2)\n",
    "    s = 0\n",
    "    decision = []\n",
    "    for i in range(1, k):\n",
    "        decision.append(i)\n",
    "        s += i\n",
    "    decision.append(num - s)\n",
    "    return k, decision"
   ]
  },
  {
   "cell_type": "markdown",
   "metadata": {},
   "source": [
    "## Проверка"
   ]
  },
  {
   "cell_type": "code",
   "execution_count": 4,
   "metadata": {},
   "outputs": [
    {
     "data": {
      "text/plain": [
       "(5, [1, 2, 3, 4, 6])"
      ]
     },
     "execution_count": 4,
     "metadata": {},
     "output_type": "execute_result"
    }
   ],
   "source": [
    "num = 16\n",
    "term_count(num)"
   ]
  },
  {
   "cell_type": "code",
   "execution_count": 5,
   "metadata": {},
   "outputs": [
    {
     "data": {
      "text/plain": [
       "(5, [1, 2, 3, 4, 6])"
      ]
     },
     "execution_count": 5,
     "metadata": {},
     "output_type": "execute_result"
    }
   ],
   "source": [
    "num = 16\n",
    "naive_term_count(num)"
   ]
  },
  {
   "cell_type": "markdown",
   "metadata": {},
   "source": [
    "## Сравнение"
   ]
  },
  {
   "cell_type": "code",
   "execution_count": 6,
   "metadata": {},
   "outputs": [
    {
     "data": {
      "image/png": "[encoded data removed]",
      "text/plain": [
       "<Figure size 432x288 with 1 Axes>"
      ]
     },
     "metadata": {
      "needs_background": "light"
     },
     "output_type": "display_data"
    }
   ],
   "source": [
    "ar = np.arange(1, 2000, 1)\n",
    "compare([term_count, naive_term_count], ar)"
   ]
  }
 ],
 "metadata": {
  "kernelspec": {
   "display_name": "Python 3",
   "language": "python",
   "name": "python3"
  },
  "language_info": {
   "codemirror_mode": {
    "name": "ipython",
    "version": 3
   },
   "file_extension": ".py",
   "mimetype": "text/x-python",
   "name": "python",
   "nbconvert_exporter": "python",
   "pygments_lexer": "ipython3",
   "version": "3.7.3"
  },
  "toc": {
   "base_numbering": 1,
   "nav_menu": {},
   "number_sections": true,
   "sideBar": true,
   "skip_h1_title": false,
   "title_cell": "Table of Contents",
   "title_sidebar": "Contents",
   "toc_cell": false,
   "toc_position": {
    "height": "calc(100% - 180px)",
    "left": "10px",
    "top": "150px",
    "width": "246.396px"
   },
   "toc_section_display": true,
   "toc_window_display": true
  }
 },
 "nbformat": 4,
 "nbformat_minor": 2
}
