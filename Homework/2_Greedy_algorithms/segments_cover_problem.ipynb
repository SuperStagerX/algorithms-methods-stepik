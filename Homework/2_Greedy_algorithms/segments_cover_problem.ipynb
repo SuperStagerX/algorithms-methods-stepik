{
 "cells": [
  {
   "cell_type": "code",
   "execution_count": 1,
   "metadata": {},
   "outputs": [],
   "source": [
    "import numpy as np\n",
    "from numpy.random import randint\n",
    "from timing import timed, compare"
   ]
  },
  {
   "cell_type": "markdown",
   "metadata": {},
   "source": [
    "# Жадные алгоритмы\n",
    "\n",
    "__Жадный алгоритм__ — алгоритм, заключающийся в принятии локально оптимальных решений на каждом этапе, допуская, что конечное решение также окажется оптимальным.\n",
    "\n",
    "__Надёжный шаг.__ Существует оптимальное решение, согласованное с локальным жадным шагом. \n",
    "\n",
    "__Оптимальность подзадач.__ Задача, остающаяся после жадного шага, имеет тот же тип."
   ]
  },
  {
   "cell_type": "markdown",
   "metadata": {},
   "source": [
    "# Покрыть отрезки точками\n",
    "По данным $n$ отрезкам необходимо найти множество точек минимального размера, для которого каждый из отрезков содержит хотя бы одну из точек.\n",
    "\n",
    "В первой строке дано число $1 \\le n \\le 100$ отрезков. Каждая из последующих nn строк содержит по два числа $0 \\le l \\le r \\le 10^9$, задающих начало и конец отрезка. Выведите оптимальное число $m$ точек и сами $m$ точек. Если таких множеств точек несколько, выведите любое из них.\n",
    "\n",
    "__Решение:__\n",
    "Жадным шагом будет найти из всех отрезков тот, у кого самый минимальный конец. Убрать из рассмотрения все отрезки, которые содержат эту точку. Повторить до тех пор, пока отрезков не останется.\n",
    "## Объявление функций"
   ]
  },
  {
   "cell_type": "code",
   "execution_count": 2,
   "metadata": {},
   "outputs": [],
   "source": [
    "def segmentscover(secs):\n",
    "    dots = []\n",
    "    sec_begins = secs[:,0]\n",
    "    sec_ends = secs[:,1]\n",
    "    while len(sec_begins) != 0:\n",
    "        dot = np.min(sec_ends)\n",
    "        found_secs = (sec_begins <= dot) & (sec_ends >= dot)\n",
    "        if len(found_secs) == 0:\n",
    "            break\n",
    "        sec_begins = sec_begins[np.logical_not(found_secs)]\n",
    "        sec_ends = sec_ends[np.logical_not(found_secs)]\n",
    "        dots.append(dot)\n",
    "    return dots"
   ]
  },
  {
   "cell_type": "markdown",
   "metadata": {},
   "source": [
    "## Тесты"
   ]
  },
  {
   "cell_type": "code",
   "execution_count": 3,
   "metadata": {},
   "outputs": [],
   "source": [
    "def test():\n",
    "    one_dots = np.array([[1,3],[2,5],[3,6]])\n",
    "    assert segmentscover(one_dots) == [3]\n",
    "    two_points = np.array([[4, 7],[1, 3],[2, 5],[5, 6]])\n",
    "    assert segmentscover(two_points) == [3,6]\n",
    "    three_dots = np.array([[1,5],[10,20],[30,40]])\n",
    "    assert segmentscover(three_dots) == [5,20,40]"
   ]
  },
  {
   "cell_type": "code",
   "execution_count": 4,
   "metadata": {},
   "outputs": [],
   "source": [
    "test()"
   ]
  }
 ],
 "metadata": {
  "kernelspec": {
   "display_name": "Python 3",
   "language": "python",
   "name": "python3"
  },
  "language_info": {
   "codemirror_mode": {
    "name": "ipython",
    "version": 3
   },
   "file_extension": ".py",
   "mimetype": "text/x-python",
   "name": "python",
   "nbconvert_exporter": "python",
   "pygments_lexer": "ipython3",
   "version": "3.7.3"
  },
  "toc": {
   "base_numbering": 1,
   "nav_menu": {},
   "number_sections": true,
   "sideBar": true,
   "skip_h1_title": false,
   "title_cell": "Table of Contents",
   "title_sidebar": "Contents",
   "toc_cell": false,
   "toc_position": {},
   "toc_section_display": true,
   "toc_window_display": true
  }
 },
 "nbformat": 4,
 "nbformat_minor": 2
}
