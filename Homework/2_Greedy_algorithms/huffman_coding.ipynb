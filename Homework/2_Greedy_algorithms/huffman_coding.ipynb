{
 "cells": [
  {
   "cell_type": "code",
   "execution_count": 1,
   "metadata": {},
   "outputs": [],
   "source": [
    "import numpy as np\n",
    "from collections import Counter, namedtuple\n",
    "import heapq"
   ]
  },
  {
   "cell_type": "markdown",
   "metadata": {},
   "source": [
    "# Жадные алгоритмы\n",
    "\n",
    "__Жадный алгоритм__ — алгоритм, заключающийся в принятии локально оптимальных решений на каждом этапе, допуская, что конечное решение также окажется оптимальным.\n",
    "\n",
    "__Надёжный шаг.__ Существует оптимальное решение, согласованное с локальным жадным шагом. \n",
    "\n",
    "__Оптимальность подзадач.__ Задача, остающаяся после жадного шага, имеет тот же тип.\n",
    "\n",
    "# Код Хаффмана\n",
    "\n",
    "## Описание\n",
    "Алгоритм Хаффмана — жадный алгоритм оптимального префиксного кодирования алфавита с минимальной избыточностью. Был разработан в 1952 году аспирантом Массачусетского технологического института Дэвидом Хаффманом при написании им курсовой работы. В настоящее время используется во многих программах сжатия данных.\n",
    "\n",
    "Этот метод кодирования состоит из двух основных этапов:\n",
    "- Построение оптимального кодового дерева.\n",
    "- Построение отображения код-символ на основе построенного дерева.\n",
    "\n",
    "## Коды переменной длины\n",
    "\n",
    "Естественная идея: присвоить более короткие коды более частым символам.\n",
    "\n",
    "$$s = abacabad$$\n",
    "\n",
    "коды символов: $a: 0, b: 10, c: 110, d: 111$\n",
    "\n",
    "закодированная строка: $01001100100111$ (14 битов)\n",
    "\n",
    "Код называется беспрефиксным, если никакой код символа не является префиксом другого кода символа.\n",
    "\n",
    "## Функции\n",
    "### Кодирование\n",
    "По данной непустой строке $s$ длины не более $10^4$, состоящей из строчных букв латинского алфавита, постройте оптимальный беспрефиксный код. В первой строке выведите количество различных букв $k$, встречающихся в строке, и размер получившейся закодированной строки. В следующих $k$ строках запишите коды букв в формате \"letter: code\". В последней строке выведите закодированную строку."
   ]
  },
  {
   "cell_type": "code",
   "execution_count": 2,
   "metadata": {},
   "outputs": [],
   "source": [
    "class Node(namedtuple(\"Node\", [\"left\", \"right\"])):\n",
    "    def walk(self, code, acc):\n",
    "        self.left.walk(code, acc + \"0\")\n",
    "        self.right.walk(code, acc + \"1\")\n",
    "        \n",
    "class Leaf(namedtuple(\"Leaf\", [\"char\"])):\n",
    "    def walk(self, code, acc):\n",
    "        code[self.char] = acc or \"0\"\n",
    "        \n",
    "\n",
    "def huffman_encode(s):\n",
    "    h = []\n",
    "    for ch, freq in Counter(s).items():\n",
    "        h.append((freq, len(h), Leaf(ch)))\n",
    "    \n",
    "    heapq.heapify(h)\n",
    "    \n",
    "    count = len(h)\n",
    "    while len(h) > 1:\n",
    "        freq1, _count1, left = heapq.heappop(h)\n",
    "        freq2, _count2, right = heapq.heappop(h)\n",
    "        heapq.heappush(h, (freq1 + freq2, count, Node(left, right)))\n",
    "        count += 1\n",
    "    \n",
    "    \n",
    "    code = {}\n",
    "    if h:\n",
    "        [(_freq, _count, root)] = h\n",
    "        root.walk(code, \"\")\n",
    "    return code"
   ]
  },
  {
   "cell_type": "markdown",
   "metadata": {},
   "source": [
    "### Декодирование\n",
    "Восстановите строку по её коду и беспрефиксному коду символов. \n",
    "\n",
    "В первой строке входного файла заданы два целых числа $k$ и $l$ через пробел — количество различных букв, встречающихся в строке, и размер получившейся закодированной строки, соответственно. В следующих $k$ строках записаны коды букв в формате \"letter: code\". Ни один код не является префиксом другого. Буквы могут быть перечислены в любом порядке. В качестве букв могут встречаться лишь строчные буквы латинского алфавита; каждая из этих букв встречается в строке хотя бы один раз. Наконец, в последней строке записана закодированная строка. Исходная строка и коды всех букв непусты. Заданный код таков, что закодированная строка имеет минимальный возможный размер.\n",
    "\n",
    "\n",
    "В первой строке выходного файла выведите строку $s$. Она должна состоять из строчных букв латинского алфавита. Гарантируется, что длина правильного ответа не превосходит $10^4$ символов."
   ]
  },
  {
   "cell_type": "code",
   "execution_count": 3,
   "metadata": {},
   "outputs": [],
   "source": [
    "def huffman_decode(letters, main_code):\n",
    "    dic = {}\n",
    "    for letter_and_code in letters_and_codes:\n",
    "        letter = letter_and_code[0].replace(\":\", \"\")\n",
    "        dic[letter_and_code[1]] = letter\n",
    "\n",
    "    buf = ''\n",
    "    decode = ''\n",
    "    for char in main_code:\n",
    "        buf += char\n",
    "        if buf in dic:\n",
    "            decode += dic[buf]\n",
    "            buf = ''\n",
    "    return decode"
   ]
  },
  {
   "cell_type": "code",
   "execution_count": 4,
   "metadata": {},
   "outputs": [],
   "source": [
    "#import sys\n",
    "#reader = (tuple(map(str,line.split())) for line in sys.stdin)\n",
    "#k, l = next(reader)\n",
    "#other = list(reader)\n",
    "#assert len(others) == int(k) + 1\n",
    "#letters_and_codes = other[:-1]\n",
    "#main_code = other[-1][0]"
   ]
  },
  {
   "cell_type": "markdown",
   "metadata": {},
   "source": [
    "## Тестирование"
   ]
  },
  {
   "cell_type": "code",
   "execution_count": 5,
   "metadata": {},
   "outputs": [],
   "source": [
    "source_string = 'abacaabac'\n",
    "letters_and_codes = [['a:', '1'], ['b:', '00'], ['c:', '01']]\n",
    "main_code = '1001011100101'"
   ]
  },
  {
   "cell_type": "code",
   "execution_count": 6,
   "metadata": {},
   "outputs": [
    {
     "name": "stdout",
     "output_type": "stream",
     "text": [
      "{'b': '00', 'c': '01', 'a': '1'}\n",
      "a: 1\n",
      "b: 00\n",
      "c: 01\n",
      "True\n"
     ]
    }
   ],
   "source": [
    "codes = huffman_encode(source_string)\n",
    "encoded_code = \"\".join(codes[ch] for ch in source_string)\n",
    "print(codes)\n",
    "for ch in sorted(codes):\n",
    "    print(\"{}: {}\".format(ch, codes[ch]))\n",
    "print(encoded_code == main_code)"
   ]
  },
  {
   "cell_type": "code",
   "execution_count": 7,
   "metadata": {},
   "outputs": [
    {
     "name": "stdout",
     "output_type": "stream",
     "text": [
      "True\n"
     ]
    }
   ],
   "source": [
    "print(huffman_decode(letters_and_codes, main_code) == source_string)"
   ]
  }
 ],
 "metadata": {
  "kernelspec": {
   "display_name": "Python 3",
   "language": "python",
   "name": "python3"
  },
  "language_info": {
   "codemirror_mode": {
    "name": "ipython",
    "version": 3
   },
   "file_extension": ".py",
   "mimetype": "text/x-python",
   "name": "python",
   "nbconvert_exporter": "python",
   "pygments_lexer": "ipython3",
   "version": "3.7.3"
  },
  "toc": {
   "base_numbering": 1,
   "nav_menu": {},
   "number_sections": true,
   "sideBar": true,
   "skip_h1_title": false,
   "title_cell": "Table of Contents",
   "title_sidebar": "Contents",
   "toc_cell": false,
   "toc_position": {},
   "toc_section_display": true,
   "toc_window_display": true
  }
 },
 "nbformat": 4,
 "nbformat_minor": 2
}
