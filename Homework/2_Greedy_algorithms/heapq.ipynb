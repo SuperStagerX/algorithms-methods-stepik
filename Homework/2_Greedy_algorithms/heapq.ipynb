{
 "cells": [
  {
   "cell_type": "code",
   "execution_count": 1,
   "metadata": {},
   "outputs": [],
   "source": [
    "import heapq"
   ]
  },
  {
   "cell_type": "markdown",
   "metadata": {},
   "source": [
    "# Жадные алгоритмы\n",
    "\n",
    "__Жадный алгоритм__ — алгоритм, заключающийся в принятии локально оптимальных решений на каждом этапе, допуская, что конечное решение также окажется оптимальным.\n",
    "\n",
    "__Надёжный шаг.__ Существует оптимальное решение, согласованное с локальным жадным шагом. \n",
    "\n",
    "__Оптимальность подзадач.__ Задача, остающаяся после жадного шага, имеет тот же тип.\n",
    "\n",
    "# Очередь с приоритетами\n",
    "\n",
    "Первая строка входа содержит число операций $1 \\le n \\le 10^5$. Каждая из последующих $n$ строк задают операцию одного из следующих двух типов:\n",
    "```\n",
    "    Insert x, где 0 ≤ x ≤ 10^9 — целое число;\n",
    "    ExtractMax.\n",
    "```\n",
    "Первая операция добавляет число x x x в очередь с приоритетами, вторая — извлекает максимальное число и выводит его.\n",
    "\n",
    "\n",
    "Sample Input:\n",
    "```\n",
    "6\n",
    "Insert 200\n",
    "Insert 10\n",
    "ExtractMax\n",
    "Insert 5\n",
    "Insert 500\n",
    "ExtractMax\n",
    "```\n",
    "Sample Output:\n",
    "```\n",
    "200\n",
    "500\n",
    "```\n",
    "\n"
   ]
  },
  {
   "cell_type": "markdown",
   "metadata": {},
   "source": [
    "## Вариант для хитрожопых\n",
    "Воспользуемся готовой реализацией модуля heapq. Будем брать отрицательные значения, так как heappop возвращает самый минимальный элемент, а по задаче надо самый большой элемент."
   ]
  },
  {
   "cell_type": "code",
   "execution_count": 2,
   "metadata": {},
   "outputs": [],
   "source": [
    "h = []\n",
    "def insert(value):\n",
    "    heapq.heappush(h, -value)\n",
    "\n",
    "def extractmax():\n",
    "    return -heapq.heappop(h)"
   ]
  },
  {
   "cell_type": "code",
   "execution_count": 3,
   "metadata": {},
   "outputs": [],
   "source": [
    "#import sys\n",
    "#reader = (tuple(map(str,line.split())) for line in sys.stdin)\n",
    "#lenght = int(next(reader)[0])\n",
    "#for i in range(lenght):\n",
    "#    func_and_var = next(reader)\n",
    "#    if func_and_var[0] == 'Insert':\n",
    "#        insert(int(func_and_var[1]))\n",
    "#    elif func_and_var[0] == 'ExtractMax':\n",
    "#        print(extractmax())"
   ]
  },
  {
   "cell_type": "markdown",
   "metadata": {},
   "source": [
    "## Самописный вариант\n",
    "Воспользуемся свойством удобной индексации массива при случае двоичной кучи.\n",
    "- вершина $i$ имеет родителя $⌊i/2⌋$ и детей $2i$ и $2i + 1$ (при вычислении данных индексов нужно проверять, что они попадают в отрезок $[1, n]$)"
   ]
  },
  {
   "cell_type": "code",
   "execution_count": 4,
   "metadata": {},
   "outputs": [],
   "source": [
    "class BadHeap:\n",
    "    h = []\n",
    "\n",
    "    def __get_parent_idx(self, child_idx):\n",
    "        return child_idx // 2\n",
    "\n",
    "    def __get_child_idxs(self, parent_idx):\n",
    "        last_idx = self.__get_last_idx()\n",
    "        child_idxs = []\n",
    "        if parent_idx == 0:\n",
    "            child_idxs.append(1) if last_idx >= 1 else 0\n",
    "            child_idxs.append(2) if last_idx >= 2 else 0    \n",
    "        else:\n",
    "            child_idxs.append(2 * parent_idx) if 2 * parent_idx <= last_idx else 0\n",
    "            child_idxs.append(2 * parent_idx + 1) if 2 * parent_idx + 1 <= last_idx else 0\n",
    "        return child_idxs \n",
    "\n",
    "    def __get_last_idx(self):\n",
    "        return len(self.h) - 1\n",
    "\n",
    "    #чтобы не юзать numpy\n",
    "    def __argmin(self, ar):\n",
    "        return min(range(len(ar)), key=lambda x: ar[x])\n",
    "\n",
    "    def __up(self, child_idx):\n",
    "        parent_idx = self.__get_parent_idx(child_idx)\n",
    "        while (parent_idx != 0) or (child_idx != parent_idx):\n",
    "            if (self.h[parent_idx] >= self.h[child_idx]):\n",
    "                self.h[parent_idx], self.h[child_idx] = self.h[child_idx], self.h[parent_idx]\n",
    "                parent_idx, child_idx = self.__get_parent_idx(child_idx), parent_idx\n",
    "            else:\n",
    "                break    \n",
    "\n",
    "    def __down(self, parent_idx):\n",
    "        child_idxs = self.__get_child_idxs(parent_idx)\n",
    "        while len(child_idxs) != 0:\n",
    "            child_values = list(self.h[i] for i in child_idxs)\n",
    "            if min(child_values) <= self.h[parent_idx]:\n",
    "                min_child_idx = child_idxs[self.__argmin(child_values)]\n",
    "                self.h[min_child_idx], self.h[parent_idx] = self.h[parent_idx], self.h[min_child_idx]\n",
    "                parent_idx = min_child_idx\n",
    "                child_idxs = self.__get_child_idxs(min_child_idx)\n",
    "            else:\n",
    "                break\n",
    "\n",
    "    def insert(self, value):\n",
    "        self.h.append(-value)\n",
    "        self.__up(self.__get_last_idx())\n",
    "\n",
    "    def extractmax(self):\n",
    "        last_idx = self.__get_last_idx()\n",
    "        self.h[0], self.h[last_idx] = self.h[last_idx], self.h[0]\n",
    "        h_min = self.h.pop(last_idx)\n",
    "        self.__down(0)\n",
    "        return -h_min"
   ]
  },
  {
   "cell_type": "markdown",
   "metadata": {},
   "source": [
    "## Сравнение"
   ]
  },
  {
   "cell_type": "code",
   "execution_count": 5,
   "metadata": {},
   "outputs": [],
   "source": [
    "heap = BadHeap()\n",
    "arr = [500,15,1561,531,1658,68,9,49,844,846,4,6,46,1,18,391,461,1436,314,4,386,41134,514,3,2,143,36,84316]"
   ]
  },
  {
   "cell_type": "code",
   "execution_count": 6,
   "metadata": {},
   "outputs": [
    {
     "name": "stdout",
     "output_type": "stream",
     "text": [
      "84316 41134 1658 1561 1436 846 844 531 514 500 461 391 386 314 143 68 49 46 36 18 15 9 6 4 4 3 2 1 "
     ]
    }
   ],
   "source": [
    "h = []\n",
    "for val in arr:\n",
    "    insert(val)\n",
    "for i in range(len(arr)):\n",
    "    print(extractmax(), end = ' ')"
   ]
  },
  {
   "cell_type": "code",
   "execution_count": 7,
   "metadata": {},
   "outputs": [
    {
     "name": "stdout",
     "output_type": "stream",
     "text": [
      "84316 41134 1658 1561 1436 846 844 531 514 500 461 391 386 314 143 68 49 46 36 18 15 9 6 4 4 3 2 1 "
     ]
    }
   ],
   "source": [
    "for val in arr:\n",
    "    heap.insert(val)\n",
    "for i in range(len(arr)):\n",
    "    print(heap.extractmax(), end = ' ')"
   ]
  },
  {
   "cell_type": "markdown",
   "metadata": {},
   "source": [
    "Оба варианта отсортировали массив на основе кучи."
   ]
  }
 ],
 "metadata": {
  "kernelspec": {
   "display_name": "Python 3",
   "language": "python",
   "name": "python3"
  },
  "language_info": {
   "codemirror_mode": {
    "name": "ipython",
    "version": 3
   },
   "file_extension": ".py",
   "mimetype": "text/x-python",
   "name": "python",
   "nbconvert_exporter": "python",
   "pygments_lexer": "ipython3",
   "version": "3.7.3"
  },
  "toc": {
   "base_numbering": 1,
   "nav_menu": {},
   "number_sections": true,
   "sideBar": true,
   "skip_h1_title": false,
   "title_cell": "Table of Contents",
   "title_sidebar": "Contents",
   "toc_cell": false,
   "toc_position": {
    "height": "calc(100% - 180px)",
    "left": "10px",
    "top": "150px",
    "width": "374.391px"
   },
   "toc_section_display": true,
   "toc_window_display": true
  }
 },
 "nbformat": 4,
 "nbformat_minor": 2
}
