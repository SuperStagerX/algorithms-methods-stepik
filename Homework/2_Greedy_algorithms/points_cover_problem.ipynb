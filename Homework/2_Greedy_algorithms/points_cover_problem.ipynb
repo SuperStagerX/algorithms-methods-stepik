{
 "cells": [
  {
   "cell_type": "code",
   "execution_count": 1,
   "metadata": {},
   "outputs": [],
   "source": [
    "import numpy as np"
   ]
  },
  {
   "cell_type": "markdown",
   "metadata": {},
   "source": [
    "# Жадные алгоритмы\n",
    "\n",
    "__Жадный алгоритм__ — алгоритм, заключающийся в принятии локально оптимальных решений на каждом этапе, допуская, что конечное решение также окажется оптимальным.\n",
    "\n",
    "__Надёжный шаг.__ Существует оптимальное решение, согласованное с локальным жадным шагом. \n",
    "\n",
    "__Оптимальность подзадач.__ Задача, остающаяся после жадного шага, имеет тот же тип."
   ]
  },
  {
   "cell_type": "markdown",
   "metadata": {},
   "source": [
    "# Покрытие точек отрезками\n",
    "__Вход:__ множество $n$ точек на прямой $x_1, . . . , x_n ∈ R$.\n",
    "\n",
    "__Выход:__ минимальное количество отрезков единичной длины, которыми можно покрыть все точки.\n",
    "\n",
    "__Решение:__ Существует оптимальное покрытие, в котором самая левая точка покрыта левым концом отрезка. Поэтому можно сразу добавить в решение отрезок, левый конец которого совпадает с самой левой точкой.\n",
    "## Функции"
   ]
  },
  {
   "cell_type": "code",
   "execution_count": 2,
   "metadata": {},
   "outputs": [],
   "source": [
    "def naive_pointscover(ar):\n",
    "    decision = []\n",
    "    while (len(ar) != 0):\n",
    "        el_min = ar.min()\n",
    "        end = el_min + 1\n",
    "        decision.append([el_min, end])\n",
    "        ar = ar[ar > end]\n",
    "    return decision"
   ]
  },
  {
   "cell_type": "code",
   "execution_count": 3,
   "metadata": {},
   "outputs": [],
   "source": [
    "def pointscover(ar):\n",
    "    ar.sort()\n",
    "    decision = []\n",
    "    i = 0\n",
    "    n = len(ar)\n",
    "    while (i <= n):\n",
    "        end = ar[i] + 1\n",
    "        decision.append([ar[i], end])\n",
    "        i += 1\n",
    "        if i == n:\n",
    "            break\n",
    "        while (i <= n and ar[i] <= end and i != n):\n",
    "            i += 1\n",
    "    return decision"
   ]
  },
  {
   "cell_type": "markdown",
   "metadata": {},
   "source": [
    "## Тесты"
   ]
  },
  {
   "cell_type": "code",
   "execution_count": 4,
   "metadata": {},
   "outputs": [],
   "source": [
    "ar = np.array([1, 1.5, 0.5, 0, 5, 6, 9, 11, 17, 5.5])"
   ]
  },
  {
   "cell_type": "code",
   "execution_count": 5,
   "metadata": {},
   "outputs": [
    {
     "data": {
      "text/plain": [
       "[[0.0, 1.0], [1.5, 2.5], [5.0, 6.0], [9.0, 10.0], [11.0, 12.0], [17.0, 18.0]]"
      ]
     },
     "execution_count": 5,
     "metadata": {},
     "output_type": "execute_result"
    }
   ],
   "source": [
    "naive_pointscover(ar)"
   ]
  },
  {
   "cell_type": "code",
   "execution_count": 6,
   "metadata": {},
   "outputs": [
    {
     "data": {
      "text/plain": [
       "[[0.0, 1.0], [1.5, 2.5], [5.0, 6.0], [9.0, 10.0], [11.0, 12.0], [17.0, 18.0]]"
      ]
     },
     "execution_count": 6,
     "metadata": {},
     "output_type": "execute_result"
    }
   ],
   "source": [
    "pointscover(ar)"
   ]
  }
 ],
 "metadata": {
  "kernelspec": {
   "display_name": "Python 3",
   "language": "python",
   "name": "python3"
  },
  "language_info": {
   "codemirror_mode": {
    "name": "ipython",
    "version": 3
   },
   "file_extension": ".py",
   "mimetype": "text/x-python",
   "name": "python",
   "nbconvert_exporter": "python",
   "pygments_lexer": "ipython3",
   "version": "3.7.3"
  },
  "toc": {
   "base_numbering": 1,
   "nav_menu": {},
   "number_sections": true,
   "sideBar": true,
   "skip_h1_title": false,
   "title_cell": "Table of Contents",
   "title_sidebar": "Contents",
   "toc_cell": false,
   "toc_position": {},
   "toc_section_display": true,
   "toc_window_display": true
  }
 },
 "nbformat": 4,
 "nbformat_minor": 2
}
