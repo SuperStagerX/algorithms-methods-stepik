{
 "cells": [
  {
   "cell_type": "code",
   "execution_count": 1,
   "metadata": {},
   "outputs": [],
   "source": [
    "from numpy.random import randint\n",
    "import heapq\n",
    "import sys\n",
    "sys.path.insert(0, '..')\n",
    "from helpers.timing import timed, compare"
   ]
  },
  {
   "cell_type": "markdown",
   "metadata": {},
   "source": [
    "# Жадные алгоритмы\n",
    "\n",
    "__Жадный алгоритм__ — алгоритм, заключающийся в принятии локально оптимальных решений на каждом этапе, допуская, что конечное решение также окажется оптимальным.\n",
    "\n",
    "__Надёжный шаг.__ Существует оптимальное решение, согласованное с локальным жадным шагом. \n",
    "\n",
    "__Оптимальность подзадач.__ Задача, остающаяся после жадного шага, имеет тот же тип."
   ]
  },
  {
   "cell_type": "markdown",
   "metadata": {},
   "source": [
    "# Непрерывный рюкзак\n",
    "__Вход:__ веса $w_1, . . . ,w_n$ и стоимости $c_1, . . . , c_n$ данных $n$ предметов; вместимость рюкзака $W$.\n",
    "\n",
    "__Выход:__ максимальная стоимость частей предметов суммарного веса не более $W$.\n",
    "\n",
    "__Решение:__ Существует оптимальное решение, содержащее максимально возможную часть предмета, стоимость которого за килограмм максимальна.\n",
    "\n",
    "## Объявление функций"
   ]
  },
  {
   "cell_type": "code",
   "execution_count": 2,
   "metadata": {},
   "outputs": [],
   "source": [
    "def fractional_knapsack(capacity, values_and_weights):\n",
    "    order = [(v / w, w) for v, w in values_and_weights]\n",
    "    order.sort(reverse = True)\n",
    "    \n",
    "    acc = 0\n",
    "    for v_per_w, w in order:\n",
    "        can_take = min(w, capacity)\n",
    "        acc += v_per_w * can_take\n",
    "        capacity -= can_take\n",
    "    return acc"
   ]
  },
  {
   "cell_type": "code",
   "execution_count": 3,
   "metadata": {},
   "outputs": [],
   "source": [
    "def fractional_heap_knapsack(capacity, values_and_weights):\n",
    "    order = [(-v / w, w) for v, w in values_and_weights]\n",
    "    heapq.heapify(order)\n",
    "    \n",
    "    acc = 0\n",
    "    while order and capacity:\n",
    "        v_per_w, w = heapq.heappop(order)\n",
    "        can_take = min(w, capacity)\n",
    "        acc -= v_per_w * can_take\n",
    "        capacity -= can_take\n",
    "    return acc"
   ]
  },
  {
   "cell_type": "markdown",
   "metadata": {},
   "source": [
    "## Тесты"
   ]
  },
  {
   "cell_type": "code",
   "execution_count": 4,
   "metadata": {},
   "outputs": [],
   "source": [
    "values_and_weights = [[60, 20], [120, 50], [120, 30]]\n",
    "n, capacity = [3, 50]"
   ]
  },
  {
   "cell_type": "code",
   "execution_count": 5,
   "metadata": {},
   "outputs": [
    {
     "output_type": "execute_result",
     "data": {
      "text/plain": [
       "180.0"
      ]
     },
     "metadata": {},
     "execution_count": 5
    }
   ],
   "source": [
    "fractional_knapsack(capacity, values_and_weights)"
   ]
  },
  {
   "cell_type": "code",
   "execution_count": 6,
   "metadata": {},
   "outputs": [
    {
     "output_type": "execute_result",
     "data": {
      "text/plain": [
       "180.0"
      ]
     },
     "metadata": {},
     "execution_count": 6
    }
   ],
   "source": [
    "fractional_heap_knapsack(capacity, values_and_weights)"
   ]
  },
  {
   "cell_type": "code",
   "execution_count": 7,
   "metadata": {},
   "outputs": [],
   "source": [
    "def test(knapsack_function):\n",
    "    assert knapsack_function(0, [(60, 20)]) == 0\n",
    "    assert knapsack_function(25, [(60, 20)]) == 60\n",
    "    assert knapsack_function(25, [(60, 20), (0, 100)]) == 60\n",
    "    assert knapsack_function(25, [(60, 20), (50, 50)]) == 60 + 5\n",
    "    assert knapsack_function(50, [[60, 20], [120, 50], [120, 30]]) == 180"
   ]
  },
  {
   "cell_type": "code",
   "execution_count": 8,
   "metadata": {},
   "outputs": [],
   "source": [
    "test(fractional_knapsack)"
   ]
  },
  {
   "cell_type": "code",
   "execution_count": 9,
   "metadata": {},
   "outputs": [],
   "source": [
    "test(fractional_heap_knapsack)"
   ]
  }
 ],
 "metadata": {
  "kernelspec": {
   "display_name": "Python 3",
   "language": "python",
   "name": "python3"
  },
  "language_info": {
   "codemirror_mode": {
    "name": "ipython",
    "version": 3
   },
   "file_extension": ".py",
   "mimetype": "text/x-python",
   "name": "python",
   "nbconvert_exporter": "python",
   "pygments_lexer": "ipython3",
   "version": "3.7.6-final"
  },
  "toc": {
   "base_numbering": 1,
   "nav_menu": {},
   "number_sections": true,
   "sideBar": true,
   "skip_h1_title": false,
   "title_cell": "Table of Contents",
   "title_sidebar": "Contents",
   "toc_cell": false,
   "toc_position": {},
   "toc_section_display": true,
   "toc_window_display": true
  }
 },
 "nbformat": 4,
 "nbformat_minor": 2
}