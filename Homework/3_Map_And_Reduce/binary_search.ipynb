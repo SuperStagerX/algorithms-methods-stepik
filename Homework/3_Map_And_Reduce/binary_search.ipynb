{
 "cells": [
  {
   "cell_type": "code",
   "execution_count": 1,
   "metadata": {},
   "outputs": [],
   "source": [
    "import numpy as np\n",
    "from bisect import bisect_left"
   ]
  },
  {
   "cell_type": "markdown",
   "metadata": {},
   "source": [
    "# Бинарный поиск\n",
    "\n",
    "Двоичный (бинарный) поиск (также известен как метод деления пополам или дихотомия) — классический алгоритм поиска элемента в отсортированном массиве (векторе), использующий дробление массива на половины. \n",
    "## Объявление функций"
   ]
  },
  {
   "cell_type": "code",
   "execution_count": 2,
   "metadata": {},
   "outputs": [],
   "source": [
    "#import sys\n",
    "def find_pos(xs, query):\n",
    "    # invariant: lo <= pos < hi\n",
    "    lo, hi = 0, len(xs)\n",
    "    while lo < hi:\n",
    "        mid = (lo + hi) // 2\n",
    "        if query < xs[mid]:\n",
    "            hi = mid  #[lo, hi)\n",
    "        elif query > xs[mid]:\n",
    "            lo = mid + 1 #[mid + 1, hi)\n",
    "        else:\n",
    "            return mid + 1 \n",
    "    try:\n",
    "        return xs.index(query) + 1\n",
    "    except ValueError:\n",
    "        return -1  \n",
    "    \n",
    "def find_pos_bisect(xs, query):\n",
    "    lo = bisect_left(xs, query)\n",
    "    # i < lo : xs[i] < query\n",
    "    # i > lo : xs[i] >= query\n",
    "    if lo <len(xs) and xs[lo] == query:\n",
    "        return lo + 1\n",
    "    else:\n",
    "        return -1\n",
    "    \n",
    "#def main():\n",
    "#    reader = (map(int,line.split()) for line in sys.stdin)\n",
    "#    n, *xs = next(reader)\n",
    "#    k, *queries = next(reader)\n",
    "#    for query in queries:\n",
    "#        print(find_pos(xs, query), end = \" \")\n",
    "#\n",
    "#if __name__ == \"__main__\":\n",
    "#    main()"
   ]
  },
  {
   "cell_type": "markdown",
   "metadata": {},
   "source": [
    "## Тестирование"
   ]
  },
  {
   "cell_type": "code",
   "execution_count": 3,
   "metadata": {},
   "outputs": [],
   "source": [
    "def test(func):\n",
    "    assert func([], 42) == -1\n",
    "    assert func([42], 42) == 1\n",
    "    assert func([42], 24) == -1"
   ]
  },
  {
   "cell_type": "code",
   "execution_count": 4,
   "metadata": {},
   "outputs": [],
   "source": [
    "test(find_pos)"
   ]
  },
  {
   "cell_type": "code",
   "execution_count": 5,
   "metadata": {},
   "outputs": [],
   "source": [
    "test(find_pos_bisect)"
   ]
  },
  {
   "cell_type": "markdown",
   "metadata": {},
   "source": [
    "## Задача\n",
    "В первой строке даны целое число $1 \\le n \\le 10^5$ и массив $A[1 \\ldots n]$ из $n$ различных натуральных чисел, не превышающих $10^9$, в порядке возрастания, во второй — целое число $1 \\le k \\le 10^5$ и $k$ натуральных чисел $b_1, \\ldots, b_k$, не превышающих $10^9$. Для каждого $i$ от 1 до $k$ необходимо вывести индекс $1 \\le j \\le n$, для которого $A[j]=b_i$, или $−1$, если такого $j$ нет."
   ]
  },
  {
   "cell_type": "code",
   "execution_count": 6,
   "metadata": {},
   "outputs": [
    {
     "name": "stdout",
     "output_type": "stream",
     "text": [
      "3 1 -1 1 -1 "
     ]
    }
   ],
   "source": [
    "n, *xs = [5, 1, 5, 8, 12, 13]\n",
    "k, *queries = [5, 8, 1, 23, 1, 11]\n",
    "for query in queries:\n",
    "    print(find_pos(xs, query), end = \" \")"
   ]
  }
 ],
 "metadata": {
  "kernelspec": {
   "display_name": "Python 3",
   "language": "python",
   "name": "python3"
  },
  "language_info": {
   "codemirror_mode": {
    "name": "ipython",
    "version": 3
   },
   "file_extension": ".py",
   "mimetype": "text/x-python",
   "name": "python",
   "nbconvert_exporter": "python",
   "pygments_lexer": "ipython3",
   "version": "3.7.3"
  },
  "toc": {
   "base_numbering": 1,
   "nav_menu": {},
   "number_sections": true,
   "sideBar": true,
   "skip_h1_title": false,
   "title_cell": "Table of Contents",
   "title_sidebar": "Contents",
   "toc_cell": false,
   "toc_position": {
    "height": "calc(100% - 180px)",
    "left": "10px",
    "top": "150px",
    "width": "229.667px"
   },
   "toc_section_display": true,
   "toc_window_display": true
  }
 },
 "nbformat": 4,
 "nbformat_minor": 2
}
